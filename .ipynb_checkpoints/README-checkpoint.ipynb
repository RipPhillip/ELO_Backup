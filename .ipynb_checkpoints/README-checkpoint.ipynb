{
 "cells": [
  {
   "cell_type": "markdown",
   "metadata": {},
   "source": [
    "# Using Elo to Predict Wins/Losses in the NBA"
   ]
  },
  {
   "cell_type": "markdown",
   "metadata": {},
   "source": [
    "Ripton Rosen"
   ]
  },
  {
   "cell_type": "markdown",
   "metadata": {},
   "source": [
    "# Description"
   ]
  },
  {
   "cell_type": "markdown",
   "metadata": {},
   "source": [
    "This project aims to implement an Elo metric to predict the outcome of basketball games and predict scores to pit against sports betting lines.  "
   ]
  },
  {
   "cell_type": "markdown",
   "metadata": {},
   "source": [
    "# Data"
   ]
  },
  {
   "cell_type": "markdown",
   "metadata": {},
   "source": [
    "The data was acquired through [Basketball-Reference](https://www.basketball-reference.com/) game logs for all 30 NBA teams, including the 7 of whom that have changed names or cities.  This included all of the basic and advanced statistics from the 2009-2010 to 2019-2020 seasons.  \n",
    "\n",
    "![knicks](Images/Knicks.png)"
   ]
  },
  {
   "cell_type": "markdown",
   "metadata": {},
   "source": [
    "# Data Cleaning and Dataframe Manipulation"
   ]
  },
  {
   "cell_type": "markdown",
   "metadata": {},
   "source": [
    "The data scrubbing, and even more so the dataframe manipulation, was the most time consuming part of the project.   The first step was to web scrape and separate the basic metrics and advanced metrics:\n",
    "![All](Images/beginning_df.png)\n",
    "\n",
    "\n",
    "Multiple columns had to be renamed, dropped, or given integer values.  After splitting the dataframe apart into basic and advanced srtatistics, I had to break it down to home and away statistics for each team.  \n",
    "\n",
    "\n",
    "**Basic Stats Dataframe**\n",
    "![basic](Images/all_basic.png)\n",
    "\n",
    "\n",
    "\n",
    "**Advanced Stats Dataframe**\n",
    "![adv](Images/all_adv.png)\n",
    "\n",
    "\n",
    "\n",
    "After this, I used a function to generate an Elo statistic for each team. Elo takes in the final score of each game, when and where it was played.  Teams are given a number of points based on a win or a loss.  Winning away games and winning by large margins allot more points to a team.  For reference, an average team's Elo is 1500.  [Fivethirtyeight.com](https://projects.fivethirtyeight.com/complete-history-of-the-nba/#lakers) used this metric to do an interactive time series on every NBA team to show their relative strengths throughout the history of each franchise.  Columns for **Home Team Elo** before and after, and **Away Team Elo** before and after were attached to each team and would be calculated on a rolling basis throughout each season.\n",
    "\n",
    "\n",
    "The final step was to average out each team's last 10 games at any given point in a season.  This was performed through functions on each dataframe, basic and advanced as well as on each teams' Elo.  The reason that this is done is for the classification models.  If the statistics from each game log, home team and away team, were to run against each other, the model would look at one or two metrics only to determine the outcome of games.  This was realized after running through some models without aggregating the teams' statistics and seeing that the model would only take into account **Offensive Rating** and **Defensive Rating** for advanced statistics and **Field Goals** for basic statistics.  Averaging out the last 10 games worth of statistics and pitting them against the other teams' is vital.  "
   ]
  },
  {
   "cell_type": "markdown",
   "metadata": {},
   "source": [
    "# Data Exploration"
   ]
  },
  {
   "cell_type": "markdown",
   "metadata": {},
   "source": [
    "Now that the dataframes have been broken apart, Elo added and last 10 games averaged, I created covariance matrices for each dataframe in order to see whether there was any multicollinearity between statistics.  \n",
    "**Basic Covariance Matrix**\n",
    "![basic_cov](Images/basic_cov.png)\n",
    "\n",
    "\n",
    "\n",
    "**Advanced Covariance Matrix**\n",
    "![adv_cov](Images/advanced_cov.png)\n",
    "\n",
    "\n",
    "I then ran a few vanilla models to check out the feature importance:\n",
    "\n",
    "**Basic Feature Importance**\n",
    "![basic_feat](Images/basic_feature_importance.png)\n",
    "\n",
    "\n",
    "\n",
    "**Advanced Feature Importance**\n",
    "![adv_feat](Images/advanced_feat_imp.png)\n",
    "\n",
    "\n",
    "We can clearly see that **Elo Before** for both home and away teams and in both basic and advanced dataframes are extremely important, but the other metrics are still being accounted for.  This is to be expected since Elo is the relative strength of a team at a certain point in time.  "
   ]
  },
  {
   "cell_type": "markdown",
   "metadata": {},
   "source": [
    "# Models"
   ]
  },
  {
   "cell_type": "markdown",
   "metadata": {},
   "source": [
    "I ran six different models:\n",
    "* K-Nearest Neighbors\n",
    "* Decision Tree\n",
    "* Random Forest\n",
    "* Logistic Regression\n",
    "* Support Vector Machine\n",
    "* XGBoost\n",
    "\n",
    "Each dataframe had these models ran on them.  I then decided to tune the Support Vector Machine, Logistic Regression and XGBoost models to see whether I could get a higher accuracy from them.  The Support Vecotr Machine and Linear Regression models had the highest accuracy using both advanced and basic statistics, with the basic statistics dataframe outperforming the advanced statistics. \n",
    "\n",
    "\n",
    "**Basic Model Values**\n",
    "![basic_model](Images/basic_model_vs.png)\n",
    "\n",
    "\n",
    "**Advanced Model Values**\n",
    "![adv_model](Images/model.png)\n",
    "\n"
   ]
  },
  {
   "cell_type": "markdown",
   "metadata": {},
   "source": [
    "# Interpretation"
   ]
  },
  {
   "cell_type": "markdown",
   "metadata": {},
   "source": [
    "The tuned Support Vector Machine with advanced statistics was able to correctly predict NBA outcomes at a 66.89% accuracy, while Logistic Regression model using basic statistics was able to predict at a 67.72% accuracy.  For predicting the outcome of basketball games, this is quite good.  Single basketball players have a huge impact on the outcome of games, and this model does not take into account whether a player is out with an injury or not. "
   ]
  },
  {
   "cell_type": "markdown",
   "metadata": {},
   "source": [
    "# Conclusion and Further Work"
   ]
  },
  {
   "cell_type": "markdown",
   "metadata": {},
   "source": [
    "There is more that can be done with this project as our understanding of basketball grows.  At some point, defensive metrics will be good enough to include in models so as to get an even better idea of how to predict the outcome of games, let alone gain a better understanding in general.  Something I'd like to do with the project is to also merge in data from the playoffs for each of the years my dataframe spans.  A final piece that I can implement is a dataframe that shows the actual score versus the predicted score and see just how far off each predicted score was."
   ]
  }
 ],
 "metadata": {
  "kernelspec": {
   "display_name": "Python 3",
   "language": "python",
   "name": "python3"
  },
  "language_info": {
   "codemirror_mode": {
    "name": "ipython",
    "version": 3
   },
   "file_extension": ".py",
   "mimetype": "text/x-python",
   "name": "python",
   "nbconvert_exporter": "python",
   "pygments_lexer": "ipython3",
   "version": "3.8.5"
  },
  "toc": {
   "base_numbering": 1,
   "nav_menu": {},
   "number_sections": true,
   "sideBar": true,
   "skip_h1_title": false,
   "title_cell": "Table of Contents",
   "title_sidebar": "Contents",
   "toc_cell": false,
   "toc_position": {},
   "toc_section_display": true,
   "toc_window_display": false
  }
 },
 "nbformat": 4,
 "nbformat_minor": 4
}
